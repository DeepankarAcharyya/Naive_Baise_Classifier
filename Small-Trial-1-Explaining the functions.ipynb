{
 "cells": [
  {
   "cell_type": "code",
   "execution_count": 15,
   "metadata": {},
   "outputs": [],
   "source": [
    "#imports\n",
    "\n",
    "import os\n",
    "import numpy as np\n",
    "from sklearn.naive_bayes import GaussianNB\n",
    "from sklearn.metrics import accuracy_score\n",
    "from collections import Counter"
   ]
  },
  {
   "cell_type": "code",
   "execution_count": 16,
   "metadata": {},
   "outputs": [],
   "source": [
    "#paths to the training and test data sets.\n",
    "\n",
    "TRAIN_DIR = os.getcwd()+\"\\\\train-mails1\"\n",
    "TEST_DIR = os.getcwd()+\"\\\\test-mails1\""
   ]
  },
  {
   "cell_type": "markdown",
   "metadata": {},
   "source": [
    "###### Step1:\n",
    "\n",
    "this function takes the mails-->convert them into bag of words-->then count the frequency of each words-->store them as key-value pairs-i.e. dictionaries--->select/considers only the top 3000 such pairs(acc to their freq)-->and return them"
   ]
  },
  {
   "cell_type": "code",
   "execution_count": 57,
   "metadata": {},
   "outputs": [],
   "source": [
    "#function to create a dictionary\n",
    "\n",
    "def makeDictionary(root_file): #takes the path of the directory as argument\n",
    "    allwords=[]\n",
    "    \n",
    "    emails=[os.path.join(root_file,f) for f in os.listdir(root_file)]\n",
    "    for mails in emails:\n",
    "        with open(mails) as mail:\n",
    "            for line in mail:\n",
    "                words=line.split()\n",
    "                allwords+=words\n",
    "    \n",
    "    #this function <Counter()> is used to count hashable objects\n",
    "    #implicitly creates a hash table of an iterable when invoked\n",
    "    dictionary= Counter(allwords) \n",
    "    #print(\"dictionary=\",dictionary)\n",
    "    \n",
    "    listtoremove=dictionary.keys()\n",
    "    #print(\"listtoremove=\",listtoremove)\n",
    "    \n",
    "    for item in list(listtoremove):\n",
    "        if item.isalpha()==False: #checks if all the characters are alphabet or not\n",
    "            del dictionary[item]\n",
    "        elif len(item) == 1:\n",
    "            del dictionary[item]\n",
    "            \n",
    "    dictionary=dictionary.most_common(3500)\n",
    "    #print(\"after the most common filter ,dictionary=\",dictionary)\n",
    "    \n",
    "    return dictionary"
   ]
  },
  {
   "cell_type": "code",
   "execution_count": 71,
   "metadata": {},
   "outputs": [],
   "source": [
    "def extractfeatures(mail_dir):\n",
    "    files=[os.path.join(mail_dir,fi) for fi in os.listdir(mail_dir)] #paths of the files-->stored in files\n",
    "    features_matrix=np.zeros((len(files),3000))                      #initializes the feature_matrix to a matrix of zeroes\n",
    "    train_labels=np.zeros(len(files))\n",
    "    \n",
    "    count=0\n",
    "    docId=0\n",
    "    \n",
    "    for file in files:\n",
    "        #print(\"\\nfile=\",file)\n",
    "        with open(file) as f:\n",
    "            #print(\"\\nf=\",f)\n",
    "            for i, line in enumerate(f):\n",
    "                #print(\"\\ni=\",i,\"\\t line=\",line)\n",
    "                if i==2:\n",
    "                    words=line.split()\n",
    "                    for word in words:\n",
    "                        wordID=0\n",
    "                        for i,d in enumerate(dictionary):\n",
    "                            #print(\"\\nd=\",d,\"i=\",i,\"d[0]=\",d[0])\n",
    "                            if d[0]==word:\n",
    "                                wordID=i\n",
    "                                features_matrix[docId,wordID]=words.count(word)\n",
    "            train_labels[docId]=0\n",
    "            filepathTokens=file.split(\"\\\\\")\n",
    "            lastToken=filepathTokens[len(filepathTokens)-1]\n",
    "            if lastToken.startswith(\"spmsg\"):\n",
    "                train_labels[docId]=1\n",
    "                count=count+1\n",
    "            docId=docId+1\n",
    "        return features_matrix,train_labels"
   ]
  },
  {
   "cell_type": "code",
   "execution_count": 72,
   "metadata": {},
   "outputs": [],
   "source": [
    "features_matrix, labels = extractfeatures(TRAIN_DIR)"
   ]
  },
  {
   "cell_type": "code",
   "execution_count": 73,
   "metadata": {},
   "outputs": [],
   "source": [
    "dictionary = makeDictionary(TRAIN_DIR)"
   ]
  },
  {
   "cell_type": "code",
   "execution_count": 74,
   "metadata": {},
   "outputs": [],
   "source": [
    "test_feature_matrix, test_labels = extractfeatures(TEST_DIR)"
   ]
  },
  {
   "cell_type": "code",
   "execution_count": null,
   "metadata": {},
   "outputs": [],
   "source": []
  }
 ],
 "metadata": {
  "kernelspec": {
   "display_name": "Python 3",
   "language": "python",
   "name": "python3"
  },
  "language_info": {
   "codemirror_mode": {
    "name": "ipython",
    "version": 3
   },
   "file_extension": ".py",
   "mimetype": "text/x-python",
   "name": "python",
   "nbconvert_exporter": "python",
   "pygments_lexer": "ipython3",
   "version": "3.6.4"
  }
 },
 "nbformat": 4,
 "nbformat_minor": 2
}
