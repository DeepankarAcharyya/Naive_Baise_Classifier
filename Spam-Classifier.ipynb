{
 "cells": [
  {
   "cell_type": "code",
   "execution_count": 1,
   "metadata": {},
   "outputs": [],
   "source": [
    "#imports\n",
    "\n",
    "import os\n",
    "import numpy as np\n",
    "from sklearn.naive_bayes import GaussianNB\n",
    "from sklearn.metrics import accuracy_score\n",
    "from collections import Counter"
   ]
  },
  {
   "cell_type": "markdown",
   "metadata": {},
   "source": [
    "### Step1 : Cleaning and Preparing the data for the model\n",
    "\n",
    "#### Here we removed the un-necessary words, expressions and symbols from the text i.e. we remove the stop words."
   ]
  },
  {
   "cell_type": "code",
   "execution_count": 29,
   "metadata": {},
   "outputs": [],
   "source": [
    "#function to create a dictionary\n",
    "\n",
    "def makeDictionary(root_file): #takes the path of the directory as argument\n",
    "    allwords=[]\n",
    "    \n",
    "    emails=[os.path.join(root_file,f) for f in os.listdir(root_file)]\n",
    "    for mails in emails:\n",
    "        with open(mails) as mail:\n",
    "            for line in mail:\n",
    "                words=line.split()\n",
    "                allwords+=words\n",
    "    \n",
    "    #this function <Counter()> is used to count hashable objects\n",
    "    #implicitly creates a hash table of an iterable when invoked\n",
    "    dictionary= Counter(allwords) \n",
    "    #print(\"dictionary=\",dictionary)\n",
    "    \n",
    "    listtoremove=dictionary.keys()\n",
    "    #print(\"listtoremove=\",listtoremove)\n",
    "    \n",
    "    for item in list(listtoremove):\n",
    "        if item.isalpha()==False: #checks if all the characters are alphabet or not\n",
    "            del dictionary[item]\n",
    "        elif len(item) == 1:\n",
    "            del dictionary[item]\n",
    "            \n",
    "    dictionary=dictionary.most_common(3000)\n",
    "    #print(\"most common ,dictionary=\",dictionary)\n",
    "    \n",
    "    return dictionary"
   ]
  },
  {
   "cell_type": "markdown",
   "metadata": {},
   "source": [
    "### Step2 : Extracting Features and Corresponding Label Matrix\n",
    "\n",
    "#### With the help of the dictionary --> generate a label and word frequency matrix\n"
   ]
  },
  {
   "cell_type": "code",
   "execution_count": 34,
   "metadata": {},
   "outputs": [],
   "source": [
    "def extractfeatures(mail_dir):\n",
    "    files=[os.path.join(mail_dir,fi) for fi in os.listdir(mail_dir)]\n",
    "    features_matrix=np.zeros((len(files),3000))\n",
    "    train_labels=np.zeros(len(files))\n",
    "    \n",
    "    count=0\n",
    "    docId=0\n",
    "    \n",
    "    for file in files:\n",
    "        with open(file) as f:\n",
    "            for i, line in enumerate(f):\n",
    "                if i==2:\n",
    "                    words=line.split()\n",
    "                    for word in words:\n",
    "                        wordID=0\n",
    "                        for i,d in enumerate(dictionary):\n",
    "                            if d[0]==word:\n",
    "                                wordID=i\n",
    "                                features_matrix[docId,wordID]=words.count(word)\n",
    "            train_labels[docId]=0\n",
    "            filepathTokens=file.split(\"\\\\\")\n",
    "            lastToken=filepathTokens[len(filepathTokens)-1]\n",
    "            if lastToken.startswith(\"spmsg\"):\n",
    "                train_labels[docId]=1\n",
    "                count=count+1\n",
    "            docId=docId+1\n",
    "        return features_matrix,train_labels"
   ]
  },
  {
   "cell_type": "markdown",
   "metadata": {},
   "source": [
    "### Step3 : Using Sklearn Naive Bayes--> Train and Predict\n",
    "\n",
    "#### The Gaussian Model is used here for training.\n",
    "##### It assumes that the features follow a normal distribution."
   ]
  },
  {
   "cell_type": "code",
   "execution_count": 19,
   "metadata": {},
   "outputs": [],
   "source": [
    "TRAIN_DIR = os.getcwd()+\"\\\\train-mails\"\n",
    "TEST_DIR = os.getcwd()+\"\\\\test-mails\""
   ]
  },
  {
   "cell_type": "code",
   "execution_count": 36,
   "metadata": {},
   "outputs": [
    {
     "name": "stdout",
     "output_type": "stream",
     "text": [
      "reading and processing emails from file\n"
     ]
    }
   ],
   "source": [
    "dictionary = makeDictionary(TRAIN_DIR)\n",
    "print (\"reading and processing emails from file\")\n",
    "features_matrix, labels = extractfeatures(TRAIN_DIR)\n",
    "test_feature_matrix, test_labels = extractfeatures(TEST_DIR)"
   ]
  },
  {
   "cell_type": "code",
   "execution_count": 42,
   "metadata": {},
   "outputs": [
    {
     "name": "stdout",
     "output_type": "stream",
     "text": [
      "--------Training model---------\n"
     ]
    }
   ],
   "source": [
    "model = GaussianNB()\n",
    "\n",
    "#train model\n",
    "print (\"--------Training model---------\")\n",
    "model.fit(features_matrix, labels)\n",
    "\n",
    "predicted_labels = model.predict(test_feature_matrix)"
   ]
  },
  {
   "cell_type": "markdown",
   "metadata": {},
   "source": [
    "### Step4 : Calculating the Accuracy Score\n",
    "##### Accuracy score is just the percentage of correct predictions.\n",
    "Sklearn provides a neat implementation for accuaracy score calculation."
   ]
  },
  {
   "cell_type": "code",
   "execution_count": 43,
   "metadata": {},
   "outputs": [
    {
     "name": "stdout",
     "output_type": "stream",
     "text": [
      "Finished classifying. \n",
      "accuracy score :  1.0\n"
     ]
    }
   ],
   "source": [
    "print (\"Finished classifying. \\naccuracy score : \",accuracy_score(test_labels, predicted_labels))"
   ]
  },
  {
   "cell_type": "code",
   "execution_count": null,
   "metadata": {},
   "outputs": [],
   "source": []
  }
 ],
 "metadata": {
  "kernelspec": {
   "display_name": "Python 3",
   "language": "python",
   "name": "python3"
  },
  "language_info": {
   "codemirror_mode": {
    "name": "ipython",
    "version": 3
   },
   "file_extension": ".py",
   "mimetype": "text/x-python",
   "name": "python",
   "nbconvert_exporter": "python",
   "pygments_lexer": "ipython3",
   "version": "3.6.4"
  }
 },
 "nbformat": 4,
 "nbformat_minor": 2
}
